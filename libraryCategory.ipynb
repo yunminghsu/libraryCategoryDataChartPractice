{
 "cells": [
  {
   "cell_type": "code",
   "execution_count": 1,
   "metadata": {
    "collapsed": true
   },
   "outputs": [],
   "source": [
    "import matplotlib.pyplot as plt\n",
    "import matplotlib\n",
    "from matplotlib.font_manager import fontManager"
   ]
  },
  {
   "cell_type": "code",
   "execution_count": 2,
   "metadata": {},
   "outputs": [],
   "source": [
    "listx=[\"商業理財\",\"文學小說\",\"藝術設計\",\"人文科普\",\"語言電腦\",\"心靈養生\",\"生活風格\",\"親子共享\"]\n",
    "listm=[0.14,0.16,0.08,0.13,0.16,0.12,0.16,0.05]\n",
    "listf=[0.1,0.19,0.06,0.1,0.13,0.13,0.2,0.09]"
   ]
  },
  {
   "cell_type": "code",
   "execution_count": 5,
   "metadata": {},
   "outputs": [],
   "source": [
    "#將比例乘以100\n",
    "listm=[x*100 for x in listm]\n",
    "listf=[x*100 for x in listf]"
   ]
  },
  {
   "cell_type": "code",
   "execution_count": 25,
   "metadata": {},
   "outputs": [
    {
     "data": {
      "text/plain": [
       "<Figure size 120000x120000 with 0 Axes>"
      ]
     },
     "metadata": {},
     "output_type": "display_data"
    }
   ],
   "source": [
    "plt.figure(figsize=(240,240),dpi=500)\n",
    "fontManager.addfont(\"TaipeiSansTCBeta-regular.ttf\")\n",
    "matplotlib.rc(\"font\",family=\"Taipei Sans TC Beta\")"
   ]
  },
  {
   "cell_type": "code",
   "execution_count": 26,
   "metadata": {},
   "outputs": [
    {
     "data": {
      "text/plain": [
       "([<matplotlib.patches.Wedge at 0x7fd041e26b50>,\n",
       "  <matplotlib.patches.Wedge at 0x7fd012abb2e0>,\n",
       "  <matplotlib.patches.Wedge at 0x7fd012abba00>,\n",
       "  <matplotlib.patches.Wedge at 0x7fd012ac9160>,\n",
       "  <matplotlib.patches.Wedge at 0x7fd012ac9880>,\n",
       "  <matplotlib.patches.Wedge at 0x7fd012ac9fa0>,\n",
       "  <matplotlib.patches.Wedge at 0x7fd012ad7700>,\n",
       "  <matplotlib.patches.Wedge at 0x7fd012ad7e20>],\n",
       " [Text(0.9953097568356063, 0.4683572225853324, '商業理財'),\n",
       "  Text(0.20611945413751367, 1.080515974257694, '文學小說'),\n",
       "  Text(-0.5894094518681141, 0.9287607324001856, '藝術設計'),\n",
       "  Text(-1.0349688291041625, 0.37261175878219305, '人文科普'),\n",
       "  Text(-0.9287607599924328, -0.5894094083896855, '語言電腦'),\n",
       "  Text(-0.13786665603274462, -1.0913261589251626, '心靈養生'),\n",
       "  Text(0.7530017279317952, -0.8018655733548677, '生活風格'),\n",
       "  Text(1.0864571541129955, -0.17207804123911677, '親子共享')],\n",
       " [Text(0.5428962310012397, 0.25546757595563585, '14.0%'),\n",
       "  Text(0.11242879316591654, 0.5893723495951058, '16.0%'),\n",
       "  Text(-0.3214960646553349, 0.5065967631273739, '8.0%'),\n",
       "  Text(-0.564528452238634, 0.20324277751755981, '13.0%'),\n",
       "  Text(-0.5065967781776906, -0.32149604093982836, '16.0%'),\n",
       "  Text(-0.07519999419967886, -0.5952688139591795, '12.0%'),\n",
       "  Text(0.41072821523552466, -0.43738122182992784, '16.0%'),\n",
       "  Text(0.5926129931525429, -0.09386074976679096, '5.0%')])"
      ]
     },
     "execution_count": 26,
     "metadata": {},
     "output_type": "execute_result"
    },
    {
     "data": {
      "image/png": "[encoded data removed]",
      "text/plain": [
       "<Figure size 432x288 with 1 Axes>"
      ]
     },
     "metadata": {},
     "output_type": "display_data"
    }
   ],
   "source": [
    "#男性圖書分類銷售率圓餅圖\n",
    "plt.subplot(221)\n",
    "plt.title(\"圖書分類銷售比率 - 男性\",fontsize=16)\n",
    "plt.pie(listm,labels=listx,autopct='%2.1f%%')"
   ]
  },
  {
   "cell_type": "markdown",
   "metadata": {},
   "source": []
  },
  {
   "cell_type": "code",
   "execution_count": null,
   "metadata": {},
   "outputs": [],
   "source": []
  }
 ],
 "metadata": {
  "kernelspec": {
   "display_name": "Python 3 (ipykernel)",
   "language": "python",
   "name": "python3"
  },
  "language_info": {
   "codemirror_mode": {
    "name": "ipython",
    "version": 3
   },
   "file_extension": ".py",
   "mimetype": "text/x-python",
   "name": "python",
   "nbconvert_exporter": "python",
   "pygments_lexer": "ipython3",
   "version": "3.9.6"
  }
 },
 "nbformat": 4,
 "nbformat_minor": 1
}
